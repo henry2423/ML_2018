{
 "cells": [
  {
   "cell_type": "code",
   "execution_count": 2,
   "metadata": {
    "scrolled": true
   },
   "outputs": [
    {
     "name": "stderr",
     "output_type": "stream",
     "text": [
      "IOPub data rate exceeded.\n",
      "The notebook server will temporarily stop sending output\n",
      "to the client in order to avoid crashing it.\n",
      "To change this limit, set the config variable\n",
      "`--NotebookApp.iopub_data_rate_limit`.\n",
      "\n",
      "Current values:\n",
      "NotebookApp.iopub_data_rate_limit=1000000.0 (bytes/sec)\n",
      "NotebookApp.rate_limit_window=3.0 (secs)\n",
      "\n"
     ]
    }
   ],
   "source": [
    "import csv\n",
    "\n",
    "sentiment_list=[]\n",
    "\n",
    "sentiment_list.append(['id','emotion','text'])\n",
    "data_count=1\n",
    "sad_len = 0\n",
    "with open(\"./data/sad_processed.txt\", \"r\") as ins:\n",
    "    array = []\n",
    "    for line in ins:\n",
    "        array.append(line)\n",
    "    \n",
    "    for index in range(250000) :#len(array)\n",
    "        count=0\n",
    "        sentence=[]\n",
    "        for alpha in range(len(array[index])):\n",
    "            if(count<3) and (array[index][alpha] ==\"\t\") :\n",
    "                if(count ==0):\n",
    "                    line = array[index][:alpha]\n",
    "                    #sentence.append(line)\n",
    "                else:\n",
    "                    line=array[index][prev_alpha+1:alpha]\n",
    "                    #sentence.append(line)\n",
    "\n",
    "                if(count==2):\n",
    "                    sentence.append(data_count)\n",
    "                    sentence.append('0')\n",
    "                    #sentence.append(array[index][prev_alpha+1:alpha])\n",
    "                    sentence.append(array[index][alpha+1:len(array[index])-1])\n",
    "                    sentiment_list.append(sentence)\n",
    "                   # print(sentence)\n",
    "            \n",
    "                count+=1\n",
    "                prev_alpha=alpha\n",
    "                \n",
    "        data_count+=1\n",
    "    sad_len = len(array)\n",
    "print(len(sentiment_list))s\n",
    "with open(\"./data/smile_processed.txt\", \"r\") as ins:\n",
    "    array = []\n",
    "    for line in ins:\n",
    "        array.append(line)\n",
    "    \n",
    "    for index in range(sad_len) : #len(array)\n",
    "        count=0\n",
    "        sentence=[]\n",
    "        for alpha in range(len(array[index])):\n",
    "            if(count<3) and (array[index][alpha] ==\"\t\") :\n",
    "                if(count ==0):\n",
    "                    line = array[index][:alpha]\n",
    "                    #sentence.append(line)\n",
    "                else:\n",
    "                    line=array[index][prev_alpha+1:alpha]\n",
    "                    #sentence.append(line)\n",
    "\n",
    "                if(count==2):\n",
    "                    #sentence.append(array[index][prev_alpha+1:alpha])\n",
    "                    sentence.append(data_count)\n",
    "                    sentence.append('1')\n",
    "                    sentence.append(array[index][alpha+1:len(array[index])-1])\n",
    "                    sentiment_list.append(sentence)\n",
    "                   # print(sentence)\n",
    "            \n",
    "                count+=1\n",
    "                prev_alpha=alpha\n",
    "                \n",
    "        data_count+=1\n",
    "                \n",
    "total_data = open('./data/totalSemtimentData.csv', 'w') \n",
    "#print (sentiment_list)\n",
    "with total_data:  \n",
    "    writer = csv.writer(total_data)\n",
    "    writer.writerows(sentiment_list)\n",
    "\n",
    "        #print(array[index])"
   ]
  },
  {
   "cell_type": "code",
   "execution_count": null,
   "metadata": {},
   "outputs": [],
   "source": []
  }
 ],
 "metadata": {
  "kernelspec": {
   "display_name": "Python 3",
   "language": "python",
   "name": "python3"
  },
  "language_info": {
   "codemirror_mode": {
    "name": "ipython",
    "version": 3
   },
   "file_extension": ".py",
   "mimetype": "text/x-python",
   "name": "python",
   "nbconvert_exporter": "python",
   "pygments_lexer": "ipython3",
   "version": "3.5.2"
  }
 },
 "nbformat": 4,
 "nbformat_minor": 2
}
